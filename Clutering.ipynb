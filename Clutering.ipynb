{
  "cells": [
    {
      "cell_type": "code",
      "execution_count": null,
      "id": "b900a62d",
      "metadata": {
        "id": "b900a62d"
      },
      "outputs": [],
      "source": [
        "import pandas as pd\n",
        "import numpy as np\n",
        "import matplotlib.pyplot as plt\n",
        "import datetime\n",
        "import warnings\n",
        "warnings.filterwarnings('ignore')\n",
        "pd.set_option('display.max_columns', None)\n",
        "pd.set_option('display.max_rows', None)"
      ]
    },
    {
      "cell_type": "code",
      "execution_count": null,
      "id": "f29a029f",
      "metadata": {
        "id": "f29a029f"
      },
      "outputs": [],
      "source": [
        "sun_df = pd.read_csv('sun.csv')"
      ]
    },
    {
      "cell_type": "code",
      "execution_count": null,
      "id": "88264870",
      "metadata": {
        "id": "88264870",
        "outputId": "e553ed21-669b-4f4b-dd5d-2f64e1b89d8a"
      },
      "outputs": [
        {
          "data": {
            "text/html": [
              "<div>\n",
              "<style scoped>\n",
              "    .dataframe tbody tr th:only-of-type {\n",
              "        vertical-align: middle;\n",
              "    }\n",
              "\n",
              "    .dataframe tbody tr th {\n",
              "        vertical-align: top;\n",
              "    }\n",
              "\n",
              "    .dataframe thead th {\n",
              "        text-align: right;\n",
              "    }\n",
              "</style>\n",
              "<table border=\"1\" class=\"dataframe\">\n",
              "  <thead>\n",
              "    <tr style=\"text-align: right;\">\n",
              "      <th></th>\n",
              "      <th>Unnamed: 0</th>\n",
              "      <th>CustomerID</th>\n",
              "      <th>Gender</th>\n",
              "      <th>Age_group</th>\n",
              "      <th>Ufly_membership_status</th>\n",
              "      <th>Card_holder?</th>\n",
              "      <th>Total_trips</th>\n",
              "      <th>Total_amount_spent</th>\n",
              "      <th>#Discounts</th>\n",
              "      <th>Preferred_travel_class</th>\n",
              "      <th>#Upgrades</th>\n",
              "      <th>Preferred_source-booking</th>\n",
              "    </tr>\n",
              "  </thead>\n",
              "  <tbody>\n",
              "    <tr>\n",
              "      <th>0</th>\n",
              "      <td>0</td>\n",
              "      <td>4120414C52484D414E44696420493F7C20676574207468...</td>\n",
              "      <td>M</td>\n",
              "      <td>Young Adults</td>\n",
              "      <td>Not member</td>\n",
              "      <td>No</td>\n",
              "      <td>1</td>\n",
              "      <td>174.0</td>\n",
              "      <td>0</td>\n",
              "      <td>Coach</td>\n",
              "      <td>0.0</td>\n",
              "      <td>SCA Website Booking</td>\n",
              "    </tr>\n",
              "    <tr>\n",
              "      <th>1</th>\n",
              "      <td>1</td>\n",
              "      <td>414142454C44696420493F7C2067657420746869732072...</td>\n",
              "      <td>M</td>\n",
              "      <td>Youth</td>\n",
              "      <td>Not member</td>\n",
              "      <td>No</td>\n",
              "      <td>1</td>\n",
              "      <td>231.9</td>\n",
              "      <td>0</td>\n",
              "      <td>Coach</td>\n",
              "      <td>1.0</td>\n",
              "      <td>Outside Booking</td>\n",
              "    </tr>\n",
              "    <tr>\n",
              "      <th>2</th>\n",
              "      <td>2</td>\n",
              "      <td>4141424552472042524F4F4B5344696420493F7C206765...</td>\n",
              "      <td>F</td>\n",
              "      <td>Middle Aged</td>\n",
              "      <td>Not member</td>\n",
              "      <td>No</td>\n",
              "      <td>1</td>\n",
              "      <td>294.9</td>\n",
              "      <td>0</td>\n",
              "      <td>Coach</td>\n",
              "      <td>0.0</td>\n",
              "      <td>Airport</td>\n",
              "    </tr>\n",
              "    <tr>\n",
              "      <th>3</th>\n",
              "      <td>3</td>\n",
              "      <td>41414245524744696420493F7C20676574207468697320...</td>\n",
              "      <td>M</td>\n",
              "      <td>Middle Aged</td>\n",
              "      <td>Not member</td>\n",
              "      <td>No</td>\n",
              "      <td>2</td>\n",
              "      <td>0.0</td>\n",
              "      <td>2</td>\n",
              "      <td>Coach</td>\n",
              "      <td>0.0</td>\n",
              "      <td>Tour Operator Portal</td>\n",
              "    </tr>\n",
              "    <tr>\n",
              "      <th>4</th>\n",
              "      <td>4</td>\n",
              "      <td>41414245524744696420493F7C20676574207468697320...</td>\n",
              "      <td>M</td>\n",
              "      <td>Young Adults</td>\n",
              "      <td>Standard</td>\n",
              "      <td>No</td>\n",
              "      <td>2</td>\n",
              "      <td>973.6</td>\n",
              "      <td>0</td>\n",
              "      <td>Coach</td>\n",
              "      <td>2.0</td>\n",
              "      <td>Outside Booking</td>\n",
              "    </tr>\n",
              "  </tbody>\n",
              "</table>\n",
              "</div>"
            ],
            "text/plain": [
              "   Unnamed: 0                                         CustomerID Gender  \\\n",
              "0           0  4120414C52484D414E44696420493F7C20676574207468...      M   \n",
              "1           1  414142454C44696420493F7C2067657420746869732072...      M   \n",
              "2           2  4141424552472042524F4F4B5344696420493F7C206765...      F   \n",
              "3           3  41414245524744696420493F7C20676574207468697320...      M   \n",
              "4           4  41414245524744696420493F7C20676574207468697320...      M   \n",
              "\n",
              "      Age_group Ufly_membership_status Card_holder?  Total_trips  \\\n",
              "0  Young Adults             Not member           No            1   \n",
              "1         Youth             Not member           No            1   \n",
              "2   Middle Aged             Not member           No            1   \n",
              "3   Middle Aged             Not member           No            2   \n",
              "4  Young Adults               Standard           No            2   \n",
              "\n",
              "   Total_amount_spent  #Discounts Preferred_travel_class  #Upgrades  \\\n",
              "0               174.0           0                  Coach        0.0   \n",
              "1               231.9           0                  Coach        1.0   \n",
              "2               294.9           0                  Coach        0.0   \n",
              "3                 0.0           2                  Coach        0.0   \n",
              "4               973.6           0                  Coach        2.0   \n",
              "\n",
              "  Preferred_source-booking  \n",
              "0      SCA Website Booking  \n",
              "1          Outside Booking  \n",
              "2                  Airport  \n",
              "3     Tour Operator Portal  \n",
              "4          Outside Booking  "
            ]
          },
          "execution_count": 7,
          "metadata": {},
          "output_type": "execute_result"
        }
      ],
      "source": [
        "sun_df.head()"
      ]
    },
    {
      "cell_type": "code",
      "execution_count": null,
      "id": "c5f1830d",
      "metadata": {
        "id": "c5f1830d",
        "outputId": "577f6497-57ff-47ac-92b8-f022073da632"
      },
      "outputs": [
        {
          "data": {
            "text/plain": [
              "Ufly_membership_status\n",
              "Elite            1333\n",
              "Not member    1267059\n",
              "Standard       269245\n",
              "Name: CustomerID, dtype: int64"
            ]
          },
          "execution_count": 100,
          "metadata": {},
          "output_type": "execute_result"
        }
      ],
      "source": [
        "sun_df.groupby('Ufly_membership_status')['CustomerID'].count()"
      ]
    },
    {
      "cell_type": "code",
      "execution_count": null,
      "id": "2fe8afef",
      "metadata": {
        "id": "2fe8afef"
      },
      "outputs": [],
      "source": [
        "new1 = sun_df[sun_df['Ufly_membership_status']=='Elite'].head(2400)\n",
        "new2 = sun_df[sun_df['Ufly_membership_status']=='Standard'].head(1200)\n",
        "new2 = sun_df[sun_df['Ufly_membership_status']=='Not member'].head(1200)\n",
        "new3 = sun_df[sun_df['Card_holder?']=='Yes'].head(2400)\n",
        "new4 = sun_df[sun_df['Card_holder?']=='No'].head(1200)\n",
        "new5 = sun_df[sun_df['Preferred_travel_class']=='Coach'].head(1200)\n",
        "new6 = sun_df[sun_df['Preferred_travel_class']=='First Class'].head(2400)\n",
        "new7 = sun_df[sun_df['Age_group']=='Young Adults'].head(1200)\n",
        "new8 = sun_df[sun_df['Age_group']=='Children'].head(1800)\n",
        "new9 = sun_df[sun_df['Age_group']=='Youth'].head(1800)\n",
        "new10 = sun_df[sun_df['Age_group']=='Middle Aged'].head(1200)\n",
        "new11 = sun_df[sun_df['Age_group']=='Senior'].head(1200)\n",
        "new12 = sun_df[sun_df['Preferred_source-booking']=='SCA Website Booking'].head(400)\n",
        "new13 = sun_df[sun_df['Preferred_source-booking']=='Outside Booking'].head(400)\n",
        "new14 = sun_df[sun_df['Preferred_source-booking']=='Airport'].head(1200)\n",
        "new15 = sun_df[sun_df['Preferred_source-booking']=='Tour Operator Portal'].head(1200)\n",
        "new16 = sun_df[sun_df['Preferred_source-booking']=='Reservations Booking'].head(1200)\n",
        "new17 = sun_df[sun_df['Preferred_source-booking']=='No Preference'].head(1200)\n",
        "new18 = sun_df[sun_df['Preferred_source-booking']=='SY Vacation'].head(1200)"
      ]
    },
    {
      "cell_type": "code",
      "execution_count": null,
      "id": "ad49a40d",
      "metadata": {
        "scrolled": true,
        "id": "ad49a40d"
      },
      "outputs": [],
      "source": [
        "new_df = pd.concat([new1, new2, new3, new4, new5, new6, new7, new8, new9, new10, new11, new12, new13, new14, new15, \\\n",
        "                   new16, new17, new18])"
      ]
    },
    {
      "cell_type": "code",
      "execution_count": null,
      "id": "e831124c",
      "metadata": {
        "id": "e831124c"
      },
      "outputs": [],
      "source": [
        "new_df.drop_duplicates(inplace=True)"
      ]
    },
    {
      "cell_type": "code",
      "execution_count": null,
      "id": "b3562454",
      "metadata": {
        "id": "b3562454"
      },
      "outputs": [],
      "source": [
        "#new_df['Ufly_membership_status'] = new_df['Ufly_membership_status'].where(new_df['Ufly_membership_status']==2, 'Elite')\n",
        "#new_df['Ufly_membership_status'] = new_df['Ufly_membership_status'].where(new_df['Ufly_membership_status']=='Elite', 'Standard')"
      ]
    },
    {
      "cell_type": "code",
      "execution_count": null,
      "id": "ded9c5fb",
      "metadata": {
        "id": "ded9c5fb",
        "outputId": "bdfac7b5-afb3-4ac1-dbaf-6b6f0b716735"
      },
      "outputs": [
        {
          "data": {
            "text/plain": [
              "Unnamed: 0                  17979\n",
              "CustomerID                  17979\n",
              "Gender                      17979\n",
              "Age_group                   17979\n",
              "Ufly_membership_status      17979\n",
              "Card_holder?                17979\n",
              "Total_trips                 17979\n",
              "Total_amount_spent          17979\n",
              "#Discounts                  17979\n",
              "Preferred_travel_class      17979\n",
              "#Upgrades                   17979\n",
              "Preferred_source-booking    17979\n",
              "dtype: int64"
            ]
          },
          "execution_count": 105,
          "metadata": {},
          "output_type": "execute_result"
        }
      ],
      "source": [
        "new_df.count()"
      ]
    },
    {
      "cell_type": "code",
      "execution_count": null,
      "id": "1ab2d989",
      "metadata": {
        "id": "1ab2d989"
      },
      "outputs": [],
      "source": [
        "import gower"
      ]
    },
    {
      "cell_type": "code",
      "execution_count": null,
      "id": "bf906b91",
      "metadata": {
        "id": "bf906b91"
      },
      "outputs": [],
      "source": [
        "#new_df = sun_df.groupby(['Gender', 'Age_group','Card_holder?', '#Discounts', 'Preferred_travel_class'], group_keys=False).apply(lambda x: x.sample(frac=0.001))"
      ]
    },
    {
      "cell_type": "code",
      "execution_count": null,
      "id": "9688bfd2",
      "metadata": {
        "id": "9688bfd2",
        "outputId": "197d5c99-6881-4edc-a714-26428606d224"
      },
      "outputs": [
        {
          "data": {
            "text/plain": [
              "Ufly_membership_status\n",
              "Elite          1293\n",
              "Not member    11601\n",
              "Standard       4918\n",
              "Name: CustomerID, dtype: int64"
            ]
          },
          "execution_count": 108,
          "metadata": {},
          "output_type": "execute_result"
        }
      ],
      "source": [
        "new_df.groupby('Ufly_membership_status')['CustomerID'].nunique()"
      ]
    },
    {
      "cell_type": "code",
      "execution_count": null,
      "id": "56549c76",
      "metadata": {
        "id": "56549c76"
      },
      "outputs": [],
      "source": [
        "#minor cleaning\n",
        "#new_df[new_df['Ufly_membership_status']==np.nan]\n",
        "#new_df.head()"
      ]
    },
    {
      "cell_type": "code",
      "execution_count": null,
      "id": "d4d86581",
      "metadata": {
        "id": "d4d86581"
      },
      "outputs": [],
      "source": [
        "gower_dist = gower.gower_matrix(new_df.iloc[:, 2:])"
      ]
    },
    {
      "cell_type": "code",
      "execution_count": null,
      "id": "c26d9304",
      "metadata": {
        "id": "c26d9304"
      },
      "outputs": [],
      "source": [
        "from sklearn_extra.cluster import KMedoids"
      ]
    },
    {
      "cell_type": "code",
      "execution_count": null,
      "id": "ba44da5c",
      "metadata": {
        "scrolled": true,
        "id": "ba44da5c"
      },
      "outputs": [],
      "source": [
        "clusterer = KMedoids(n_clusters = 5, random_state = 10, method = 'pam') \n",
        "new_df['cluster'] = clusterer.fit_predict(gower_dist)"
      ]
    },
    {
      "cell_type": "code",
      "execution_count": null,
      "id": "6d7a1cfa",
      "metadata": {
        "id": "6d7a1cfa",
        "outputId": "e43d6651-90df-4666-e270-e3a3dd86aa0a"
      },
      "outputs": [
        {
          "data": {
            "text/plain": [
              "<AxesSubplot:xlabel='Total_trips', ylabel='#Discounts'>"
            ]
          },
          "execution_count": 113,
          "metadata": {},
          "output_type": "execute_result"
        },
        {
          "data": {
            "image/png": "[encoded data removed]",
            "text/plain": [
              "<Figure size 432x288 with 1 Axes>"
            ]
          },
          "metadata": {
            "needs_background": "light"
          },
          "output_type": "display_data"
        }
      ],
      "source": [
        "import seaborn as sns\n",
        "sns.scatterplot(data=new_df, x = 'Total_trips', y ='#Discounts', hue='cluster')"
      ]
    },
    {
      "cell_type": "code",
      "execution_count": null,
      "id": "b7d31527",
      "metadata": {
        "id": "b7d31527",
        "outputId": "fb0003cd-5208-4705-db23-4173434b994a"
      },
      "outputs": [
        {
          "name": "stdout",
          "output_type": "stream",
          "text": [
            "gender\n",
            "        count unique top  freq\n",
            "cluster                       \n",
            "0        5986      2   F  5985\n",
            "1        2259      1   F  2259\n",
            "2        1760      1   M  1760\n",
            "3        2464      2   M  1905\n",
            "4        5510      1   M  5510\n",
            "Age Group\n",
            "        count unique           top  freq\n",
            "cluster                                 \n",
            "0        5986      5   Middle Aged  1300\n",
            "1        2259      5        Senior  1076\n",
            "2        1760      5        Senior   826\n",
            "3        2464      5        Senior   951\n",
            "4        5510      5  Young Adults  1327\n",
            "UflyMemberStatus\n",
            "        count unique         top  freq\n",
            "cluster                               \n",
            "0        5986      3  Not member  5435\n",
            "1        2259      3    Standard  2139\n",
            "2        1760      2    Standard  1570\n",
            "3        2464      3  Not member  1234\n",
            "4        5510      3  Not member  4985\n",
            "CardHolder\n",
            "        count unique  top  freq\n",
            "cluster                        \n",
            "0        5986      2   No  5985\n",
            "1        2259      2  Yes  1293\n",
            "2        1760      2  Yes  1297\n",
            "3        2464      1   No  2464\n",
            "4        5510      2   No  5508\n",
            "NumTrips\n",
            "          count      mean       std  min  25%  50%  75%    max\n",
            "cluster                                                       \n",
            "0        5986.0  2.161544  1.599540  1.0  2.0  2.0  2.0   37.0\n",
            "1        2259.0  3.715361  4.269797  1.0  2.0  2.0  4.0   59.0\n",
            "2        1760.0  4.700000  7.711232  1.0  2.0  2.0  4.0   97.0\n",
            "3        2464.0  5.746347  9.308806  1.0  2.0  2.0  5.0  103.0\n",
            "4        5510.0  2.228494  2.432435  1.0  1.0  2.0  2.0   53.0\n",
            "TotalDocAmt\n",
            "          count         mean          std  min      25%      50%       75%  \\\n",
            "cluster                                                                      \n",
            "0        5986.0   604.215332   756.589796  0.0  155.985   481.08   834.000   \n",
            "1        2259.0  1335.590837  1827.679089  0.0  463.200   822.40  1584.000   \n",
            "2        1760.0  1698.691597  3014.891791  0.0  451.800   816.99  1660.995   \n",
            "3        2464.0  2892.199456  4454.394613  0.0  552.190  1360.50  2723.700   \n",
            "4        5510.0   627.785949  1045.184437  0.0  149.900   456.00   799.600   \n",
            "\n",
            "              max  \n",
            "cluster            \n",
            "0        17500.94  \n",
            "1        23756.18  \n",
            "2        43721.47  \n",
            "3        46556.78  \n",
            "4        19665.20  \n",
            "# Discounts\n",
            "          count      mean       std  min  25%  50%  75%   max\n",
            "cluster                                                      \n",
            "0        5986.0  0.943034  1.232230  0.0  0.0  0.0  2.0  25.0\n",
            "1        2259.0  1.853032  2.496340  0.0  0.0  2.0  2.0  43.0\n",
            "2        1760.0  2.195455  4.339014  0.0  0.0  1.0  2.0  53.0\n",
            "3        2464.0  3.347808  5.136423  0.0  1.0  2.0  3.0  52.0\n",
            "4        5510.0  0.898185  1.586376  0.0  0.0  0.0  2.0  53.0\n",
            "Preferred_travel_class\n",
            "        count unique          top  freq\n",
            "cluster                                \n",
            "0        5986      2        Coach  5763\n",
            "1        2259      2        Coach  1670\n",
            "2        1760      2        Coach  1538\n",
            "3        2464      2  First Class  2186\n",
            "4        5510      2        Coach  5500\n",
            "#Upgrades\n",
            "          count      mean       std  min  25%  50%  75%   max\n",
            "cluster                                                      \n",
            "0        5986.0  0.101904  0.586087 -3.0  0.0  0.0  0.0  21.0\n",
            "1        2259.0  0.583444  2.085742 -4.0  0.0  0.0  0.0  37.0\n",
            "2        1760.0  1.046023  4.719010 -2.0  0.0  0.0  0.0  70.0\n",
            "3        2464.0  1.437906  4.597414 -4.0  0.0  0.0  1.0  62.0\n",
            "4        5510.0  0.128675  0.821495 -1.0  0.0  0.0  0.0  21.0\n",
            "Preferred_source-booking\n",
            "        count unique                  top  freq\n",
            "cluster                                        \n",
            "0        5986      7      Outside Booking  1912\n",
            "1        2259      7  SCA Website Booking  1616\n",
            "2        1760      7  SCA Website Booking  1231\n",
            "3        2464      7  SCA Website Booking  1861\n",
            "4        5510      7      Outside Booking  1839\n"
          ]
        }
      ],
      "source": [
        "# Summary statistics by cluster\n",
        "print('gender')\n",
        "print(new_df.groupby('cluster')['Gender'].describe())\n",
        "print('Age Group')\n",
        "print(new_df.groupby('cluster')['Age_group'].describe())\n",
        "print('UflyMemberStatus')\n",
        "print(new_df.groupby('cluster')['Ufly_membership_status'].describe())\n",
        "print('CardHolder')\n",
        "print(new_df.groupby('cluster')['Card_holder?'].describe())\n",
        "print('NumTrips')\n",
        "print(new_df.groupby('cluster')['Total_trips'].describe())\n",
        "print('TotalDocAmt')\n",
        "print(new_df.groupby('cluster')['Total_amount_spent'].describe())\n",
        "print('# Discounts')\n",
        "print(new_df.groupby('cluster')['#Discounts'].describe())\n",
        "print('Preferred_travel_class')\n",
        "print(new_df.groupby('cluster')['Preferred_travel_class'].describe())\n",
        "print('#Upgrades')\n",
        "print(new_df.groupby('cluster')['#Upgrades'].describe())\n",
        "print('Preferred_source-booking')\n",
        "print(new_df.groupby('cluster')['Preferred_source-booking'].describe())"
      ]
    },
    {
      "cell_type": "code",
      "execution_count": null,
      "id": "d6044a07",
      "metadata": {
        "id": "d6044a07",
        "outputId": "f72aab41-e4b2-4a7d-bcae-05213d480cc9"
      },
      "outputs": [
        {
          "ename": "ModuleNotFoundError",
          "evalue": "No module named 'adspy_shared_utilities'",
          "output_type": "error",
          "traceback": [
            "\u001b[1;31m---------------------------------------------------------------------------\u001b[0m",
            "\u001b[1;31mModuleNotFoundError\u001b[0m                       Traceback (most recent call last)",
            "Input \u001b[1;32mIn [13]\u001b[0m, in \u001b[0;36m<cell line: 1>\u001b[1;34m()\u001b[0m\n\u001b[1;32m----> 1\u001b[0m \u001b[38;5;28;01mfrom\u001b[39;00m \u001b[38;5;21;01madspy_shared_utilities\u001b[39;00m \u001b[38;5;28;01mimport\u001b[39;00m plot_labelled_scatter\n",
            "\u001b[1;31mModuleNotFoundError\u001b[0m: No module named 'adspy_shared_utilities'"
          ]
        }
      ],
      "source": [
        "from adspy_shared_utilities import plot_labelled_scatter"
      ]
    },
    {
      "cell_type": "code",
      "execution_count": null,
      "id": "ba8ca4db",
      "metadata": {
        "id": "ba8ca4db"
      },
      "outputs": [],
      "source": [
        "from sklearn.metrics import silhouette_samples, silhouette_score"
      ]
    },
    {
      "cell_type": "code",
      "execution_count": null,
      "id": "089cb91f",
      "metadata": {
        "id": "089cb91f"
      },
      "outputs": [],
      "source": [
        "silhouette_score_list =[]\n",
        "for n_clusters in range(4,6):\n",
        "   \n",
        "    # Initialize the clusterer with n_clusters value and a random generator\n",
        "    # seed of 10 for reproducibility.\n",
        "    clusterer = KMedoids(n_clusters = n_clusters, random_state = 10, method = 'pam') \n",
        "    cls_assignment = clusterer.fit_predict(gower_dist)\n",
        "\n",
        "    # The silhouette_score gives the average value for all the samples.\n",
        "    # This gives a perspective into the density and separation of the formed clusters\n",
        "    silhouette_avg = silhouette_score(gower_dist, cls_assignment)\n",
        "    silhouette_score_list.append(silhouette_avg)\n"
      ]
    },
    {
      "cell_type": "code",
      "execution_count": null,
      "id": "2abfe976",
      "metadata": {
        "id": "2abfe976",
        "outputId": "2cae8a81-2e47-4a54-f4c0-dcc1a982b5b6"
      },
      "outputs": [
        {
          "data": {
            "image/png": "[encoded data removed]",
            "text/plain": [
              "<Figure size 576x360 with 1 Axes>"
            ]
          },
          "metadata": {
            "needs_background": "light"
          },
          "output_type": "display_data"
        }
      ],
      "source": [
        "plt.subplots(figsize=(8,5))\n",
        "plt.plot(range(4, 6), silhouette_score_list)\n",
        "plt.title('Silhouette Score (K-medoids)', fontsize=18)\n",
        "plt.xlabel('Number of Clusters', fontsize=15)\n",
        "plt.ylabel('Silhouette', fontsize=15)\n",
        "plt.show()"
      ]
    },
    {
      "cell_type": "code",
      "execution_count": null,
      "id": "80ce4165",
      "metadata": {
        "id": "80ce4165"
      },
      "outputs": [],
      "source": [
        "clusterer = KMedoids(n_clusters = 10, random_state = 10, method = 'pam') \n",
        "new_df['cluster'] = clusterer.fit_predict(gower_dist)"
      ]
    },
    {
      "cell_type": "code",
      "execution_count": null,
      "id": "dbc6b6c9",
      "metadata": {
        "id": "dbc6b6c9"
      },
      "outputs": [],
      "source": [
        "sns.scatterplot(data=new_df, x = 'Total_trips', y ='Total_amount_spent', hue='cluster')"
      ]
    },
    {
      "cell_type": "code",
      "execution_count": null,
      "id": "243e3b51",
      "metadata": {
        "id": "243e3b51",
        "outputId": "960f6615-331d-4d99-9283-ad68b5f09769"
      },
      "outputs": [
        {
          "data": {
            "text/html": [
              "<div>\n",
              "<style scoped>\n",
              "    .dataframe tbody tr th:only-of-type {\n",
              "        vertical-align: middle;\n",
              "    }\n",
              "\n",
              "    .dataframe tbody tr th {\n",
              "        vertical-align: top;\n",
              "    }\n",
              "\n",
              "    .dataframe thead th {\n",
              "        text-align: right;\n",
              "    }\n",
              "</style>\n",
              "<table border=\"1\" class=\"dataframe\">\n",
              "  <thead>\n",
              "    <tr style=\"text-align: right;\">\n",
              "      <th></th>\n",
              "      <th>Unnamed: 0</th>\n",
              "      <th>CustomerID</th>\n",
              "      <th>Gender</th>\n",
              "      <th>Age_group</th>\n",
              "      <th>Ufly_membership_status</th>\n",
              "      <th>Card_holder?</th>\n",
              "      <th>Total_trips</th>\n",
              "      <th>Total_amount_spent</th>\n",
              "      <th>#Discounts</th>\n",
              "      <th>Preferred_travel_class</th>\n",
              "      <th>#Upgrades</th>\n",
              "      <th>Preferred_source-booking</th>\n",
              "      <th>cluster</th>\n",
              "    </tr>\n",
              "  </thead>\n",
              "  <tbody>\n",
              "    <tr>\n",
              "      <th>3198</th>\n",
              "      <td>3198</td>\n",
              "      <td>4142524148414D44696420493F7C206765742074686973...</td>\n",
              "      <td>M</td>\n",
              "      <td>Middle Aged</td>\n",
              "      <td>Elite</td>\n",
              "      <td>No</td>\n",
              "      <td>29</td>\n",
              "      <td>5055.25</td>\n",
              "      <td>9</td>\n",
              "      <td>First Class</td>\n",
              "      <td>20.0</td>\n",
              "      <td>SCA Website Booking</td>\n",
              "      <td>3</td>\n",
              "    </tr>\n",
              "    <tr>\n",
              "      <th>3199</th>\n",
              "      <td>3199</td>\n",
              "      <td>4142524148414D44696420493F7C206765742074686973...</td>\n",
              "      <td>M</td>\n",
              "      <td>Middle Aged</td>\n",
              "      <td>Elite</td>\n",
              "      <td>No</td>\n",
              "      <td>2</td>\n",
              "      <td>568.31</td>\n",
              "      <td>1</td>\n",
              "      <td>First Class</td>\n",
              "      <td>0.0</td>\n",
              "      <td>No Preference</td>\n",
              "      <td>3</td>\n",
              "    </tr>\n",
              "    <tr>\n",
              "      <th>3200</th>\n",
              "      <td>3200</td>\n",
              "      <td>4142524148414D44696420493F7C206765742074686973...</td>\n",
              "      <td>M</td>\n",
              "      <td>Middle Aged</td>\n",
              "      <td>Elite</td>\n",
              "      <td>No</td>\n",
              "      <td>8</td>\n",
              "      <td>2628.05</td>\n",
              "      <td>4</td>\n",
              "      <td>First Class</td>\n",
              "      <td>2.0</td>\n",
              "      <td>No Preference</td>\n",
              "      <td>3</td>\n",
              "    </tr>\n",
              "    <tr>\n",
              "      <th>3202</th>\n",
              "      <td>3202</td>\n",
              "      <td>4142524148414D44696420493F7C206765742074686973...</td>\n",
              "      <td>M</td>\n",
              "      <td>Middle Aged</td>\n",
              "      <td>Elite</td>\n",
              "      <td>No</td>\n",
              "      <td>15</td>\n",
              "      <td>2383.75</td>\n",
              "      <td>2</td>\n",
              "      <td>First Class</td>\n",
              "      <td>9.0</td>\n",
              "      <td>Outside Booking</td>\n",
              "      <td>3</td>\n",
              "    </tr>\n",
              "    <tr>\n",
              "      <th>3212</th>\n",
              "      <td>3212</td>\n",
              "      <td>4142524148414D44696420493F7C206765742074686973...</td>\n",
              "      <td>M</td>\n",
              "      <td>Children</td>\n",
              "      <td>Elite</td>\n",
              "      <td>No</td>\n",
              "      <td>9</td>\n",
              "      <td>2605.60</td>\n",
              "      <td>5</td>\n",
              "      <td>First Class</td>\n",
              "      <td>1.0</td>\n",
              "      <td>SCA Website Booking</td>\n",
              "      <td>3</td>\n",
              "    </tr>\n",
              "  </tbody>\n",
              "</table>\n",
              "</div>"
            ],
            "text/plain": [
              "      Unnamed: 0                                         CustomerID Gender  \\\n",
              "3198        3198  4142524148414D44696420493F7C206765742074686973...      M   \n",
              "3199        3199  4142524148414D44696420493F7C206765742074686973...      M   \n",
              "3200        3200  4142524148414D44696420493F7C206765742074686973...      M   \n",
              "3202        3202  4142524148414D44696420493F7C206765742074686973...      M   \n",
              "3212        3212  4142524148414D44696420493F7C206765742074686973...      M   \n",
              "\n",
              "        Age_group Ufly_membership_status Card_holder?  Total_trips  \\\n",
              "3198  Middle Aged                  Elite           No           29   \n",
              "3199  Middle Aged                  Elite           No            2   \n",
              "3200  Middle Aged                  Elite           No            8   \n",
              "3202  Middle Aged                  Elite           No           15   \n",
              "3212     Children                  Elite           No            9   \n",
              "\n",
              "      Total_amount_spent  #Discounts Preferred_travel_class  #Upgrades  \\\n",
              "3198             5055.25           9            First Class       20.0   \n",
              "3199              568.31           1            First Class        0.0   \n",
              "3200             2628.05           4            First Class        2.0   \n",
              "3202             2383.75           2            First Class        9.0   \n",
              "3212             2605.60           5            First Class        1.0   \n",
              "\n",
              "     Preferred_source-booking  cluster  \n",
              "3198      SCA Website Booking        3  \n",
              "3199            No Preference        3  \n",
              "3200            No Preference        3  \n",
              "3202          Outside Booking        3  \n",
              "3212      SCA Website Booking        3  "
            ]
          },
          "execution_count": 121,
          "metadata": {},
          "output_type": "execute_result"
        }
      ],
      "source": [
        "new_df.head()"
      ]
    },
    {
      "cell_type": "code",
      "execution_count": null,
      "id": "0ed39e32",
      "metadata": {
        "id": "0ed39e32",
        "outputId": "7fdb8622-20ac-405e-8788-c9005d7b294a"
      },
      "outputs": [
        {
          "data": {
            "text/plain": [
              "cluster\n",
              "0    33.294399\n",
              "1    12.564659\n",
              "2     9.789199\n",
              "3    13.704878\n",
              "4    30.646866\n",
              "Name: CustomerID, dtype: float64"
            ]
          },
          "execution_count": 161,
          "metadata": {},
          "output_type": "execute_result"
        }
      ],
      "source": [
        "new_df.groupby('cluster')['CustomerID'].count()*100/17979"
      ]
    },
    {
      "cell_type": "code",
      "execution_count": null,
      "id": "e8f3be94",
      "metadata": {
        "id": "e8f3be94",
        "outputId": "e727234a-7055-4032-c27e-a87ba8452412"
      },
      "outputs": [
        {
          "data": {
            "image/png": "[encoded data removed]",
            "text/plain": [
              "<Figure size 576x360 with 1 Axes>"
            ]
          },
          "metadata": {
            "needs_background": "light"
          },
          "output_type": "display_data"
        }
      ],
      "source": [
        "plt.subplots(figsize=(8,5))\n",
        "plt.bar([1,2,3,4,5], new_df.groupby('cluster')['Total_amount_spent'].mean())\n",
        "plt.title('Spending rate by cluster', fontsize=18)\n",
        "plt.xlabel('Cluster', fontsize=15)\n",
        "plt.ylabel('Average money spent', fontsize=15)\n",
        "plt.show()"
      ]
    },
    {
      "cell_type": "code",
      "execution_count": null,
      "id": "4016d353",
      "metadata": {
        "id": "4016d353",
        "outputId": "7b578d70-16e7-4bc8-c078-01eca3bb225d"
      },
      "outputs": [
        {
          "data": {
            "image/png": "[encoded data removed]",
            "text/plain": [
              "<Figure size 576x360 with 1 Axes>"
            ]
          },
          "metadata": {
            "needs_background": "light"
          },
          "output_type": "display_data"
        }
      ],
      "source": [
        "plt.subplots(figsize=(8,5))\n",
        "X = [1,2,3,4,5]\n",
        "plt.plot(X, [0.67, 0.64, 1.05, 4.14, 0.84])\n",
        "plt.title('Ufly Elite customers by cluster', fontsize=18)\n",
        "plt.xlabel('Cluster', fontsize=15)\n",
        "plt.ylabel('% customers', fontsize=15)\n",
        "plt.show()"
      ]
    },
    {
      "cell_type": "code",
      "execution_count": null,
      "id": "ef3d4936",
      "metadata": {
        "id": "ef3d4936",
        "outputId": "fcdae777-b6ac-471a-a957-fa12eda9ded5"
      },
      "outputs": [
        {
          "data": {
            "text/plain": [
              "cluster\n",
              "0    33.294399\n",
              "1    12.564659\n",
              "2     9.789199\n",
              "3    13.704878\n",
              "4    30.646866\n",
              "Name: CustomerID, dtype: float64"
            ]
          },
          "execution_count": 170,
          "metadata": {},
          "output_type": "execute_result"
        }
      ],
      "source": [
        "new_df.groupby('cluster')['CustomerID'].count()*100/17979"
      ]
    },
    {
      "cell_type": "code",
      "execution_count": null,
      "id": "3d54c461",
      "metadata": {
        "id": "3d54c461",
        "outputId": "18619abc-5a1d-4700-cd06-ba617237253d"
      },
      "outputs": [
        {
          "data": {
            "image/png": "[encoded data removed]",
            "text/plain": [
              "<Figure size 576x360 with 1 Axes>"
            ]
          },
          "metadata": {},
          "output_type": "display_data"
        }
      ],
      "source": [
        "plt.subplots(figsize=(8,5))\n",
        "labels = 'Investment opportunity','Senior-females-promising','Senior-males-high-frequency travelers-low budget', \\\n",
        "'Senior-male-wealthy-frequent travelers','Youth-male-fresh users'\n",
        "sizes = [33.3, 12.5, 9.7, 13.7, 30.6]\n",
        "explode = (0.1, 0, 0, 0, 0.1)\n",
        "plt.pie(sizes, labels=labels, explode=explode, autopct='%1.1f%%')\n",
        "plt.title('% Customers by cluster', fontsize=18)\n",
        "plt.show()"
      ]
    },
    {
      "cell_type": "code",
      "execution_count": null,
      "id": "df1166f3",
      "metadata": {
        "id": "df1166f3"
      },
      "outputs": [],
      "source": [
        "# "
      ]
    }
  ],
  "metadata": {
    "kernelspec": {
      "display_name": "Python 3 (ipykernel)",
      "language": "python",
      "name": "python3"
    },
    "language_info": {
      "codemirror_mode": {
        "name": "ipython",
        "version": 3
      },
      "file_extension": ".py",
      "mimetype": "text/x-python",
      "name": "python",
      "nbconvert_exporter": "python",
      "pygments_lexer": "ipython3",
      "version": "3.9.12"
    },
    "colab": {
      "provenance": []
    }
  },
  "nbformat": 4,
  "nbformat_minor": 5
}